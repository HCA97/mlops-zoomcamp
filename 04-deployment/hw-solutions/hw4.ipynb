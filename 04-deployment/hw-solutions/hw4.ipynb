{
 "cells": [
  {
   "cell_type": "markdown",
   "id": "2ccace8a",
   "metadata": {},
   "source": [
    "# Q1"
   ]
  },
  {
   "cell_type": "code",
   "execution_count": 1,
   "id": "fc466826",
   "metadata": {},
   "outputs": [
    {
     "name": "stdout",
     "output_type": "stream",
     "text": [
      "scikit-learn==1.2.2\r\n"
     ]
    }
   ],
   "source": [
    "!pip freeze | grep scikit-learn"
   ]
  },
  {
   "cell_type": "code",
   "execution_count": 2,
   "id": "cbcf51e2",
   "metadata": {},
   "outputs": [
    {
     "name": "stdout",
     "output_type": "stream",
     "text": [
      "Dowloading ...\n",
      "Doing prediction ...\n",
      "Prediction std ...\n"
     ]
    },
    {
     "data": {
      "text/plain": [
       "5.28140357655334"
      ]
     },
     "execution_count": 2,
     "metadata": {},
     "output_type": "execute_result"
    }
   ],
   "source": [
    "import pickle\n",
    "import pandas as pd\n",
    "\n",
    "with open('model.bin', 'rb') as f_in:\n",
    "    dv, model = pickle.load(f_in)\n",
    "    \n",
    "categorical = ['PULocationID', 'DOLocationID']\n",
    "\n",
    "def read_data(filename):\n",
    "    df = pd.read_parquet(filename)\n",
    "    \n",
    "    df['duration'] = df.tpep_dropoff_datetime - df.tpep_pickup_datetime\n",
    "    df['duration'] = df.duration.dt.total_seconds() / 60\n",
    "\n",
    "    df = df[(df.duration >= 1) & (df.duration <= 60)].copy()\n",
    "\n",
    "    df[categorical] = df[categorical].fillna(-1).astype('int').astype('str')\n",
    "    \n",
    "    return df\n",
    "\n",
    "month = 2\n",
    "year = 2022\n",
    "print('Dowloading ...')\n",
    "df = read_data(f'https://d37ci6vzurychx.cloudfront.net/trip-data/yellow_tripdata_{year:04d}-{month:02d}.parquet')\n",
    "\n",
    "\n",
    "print('Doing prediction ...')\n",
    "dicts = df[categorical].to_dict(orient='records')\n",
    "X_val = dv.transform(dicts)\n",
    "y_pred = model.predict(X_val)\n",
    "print('Prediction std ...')\n",
    "y_pred.std()"
   ]
  },
  {
   "cell_type": "markdown",
   "id": "139fe089",
   "metadata": {},
   "source": [
    "# Q2"
   ]
  },
  {
   "cell_type": "code",
   "execution_count": 3,
   "id": "40fe3af6",
   "metadata": {},
   "outputs": [
    {
     "name": "stdout",
     "output_type": "stream",
     "text": [
      "58M yellow_tripdata_2022-02.parquet\r\n"
     ]
    }
   ],
   "source": [
    "output_file = f'yellow_tripdata_{year:04d}-{month:02d}.parquet'\n",
    "df['predictions'] = y_pred\n",
    "df['ride_id'] = f'{year:04d}/{month:02d}_' + df.index.astype('str')\n",
    "df_results = df[['ride_id', 'predictions']]\n",
    "df_results.to_parquet(\n",
    "    output_file,\n",
    "    engine='pyarrow',\n",
    "    compression=None,\n",
    "    index=False\n",
    ")\n",
    "\n",
    "!ls -sh yellow_tripdata_*.parquet"
   ]
  },
  {
   "cell_type": "markdown",
   "id": "4e9c7d62",
   "metadata": {},
   "source": [
    "# Q3\n",
    "\n",
    "To export jupyter notebook as python scipt we need to run `jupyter nbconvert --to script my_julia_notebook.ipynb` \n",
    "\n",
    "Ref: https://nbconvert.readthedocs.io/en/latest/usage.html#convert-script"
   ]
  },
  {
   "cell_type": "markdown",
   "id": "de22e7ee",
   "metadata": {},
   "source": [
    "# Q4"
   ]
  },
  {
   "cell_type": "code",
   "execution_count": 15,
   "id": "45b1c365",
   "metadata": {},
   "outputs": [
    {
     "name": "stdout",
     "output_type": "stream",
     "text": [
      "\u001b[32m\u001b[1mInstalling pandas==1.5.2...\u001b[0m\n",
      "\u001b[?25lResolving \u001b[33mpandas\u001b[0m==\u001b[1;36m1.5\u001b[0m.\u001b[1;36m2\u001b[0m\u001b[33m...\u001b[0m\n",
      "\u001b[2K\u001b[1mAdding \u001b[0m\u001b[1;32mpandas\u001b[0m to Pipfile's \u001b[1;33m[\u001b[0m\u001b[33mpackages\u001b[0m\u001b[1;33m]\u001b[0m \u001b[33m...\u001b[0m\n",
      "\u001b[2K✔ Installation Succeeded...\n",
      "\u001b[2K\u001b[32m⠋\u001b[0m Installing pandas...\n",
      "\u001b[1A\u001b[2K\u001b[32m\u001b[1mInstalling pyarrow==10.0.1...\u001b[0m\n",
      "\u001b[?25lResolving \u001b[33mpyarrow\u001b[0m==\u001b[1;36m10.0\u001b[0m.\u001b[1;36m1\u001b[0m\u001b[33m...\u001b[0m\n",
      "\u001b[2K\u001b[1mAdding \u001b[0m\u001b[1;32mpyarrow\u001b[0m to Pipfile's \u001b[1;33m[\u001b[0m\u001b[33mpackages\u001b[0m\u001b[1;33m]\u001b[0m \u001b[33m...\u001b[0m\n",
      "\u001b[2K✔ Installation Succeededw...\n",
      "\u001b[2K\u001b[32m⠋\u001b[0m Installing pyarrow...\n",
      "\u001b[1A\u001b[2K\u001b[32m\u001b[1mInstalling scikit-learn==1.2.2...\u001b[0m\n",
      "\u001b[?25lResolving scikit-\u001b[33mlearn\u001b[0m==\u001b[1;36m1.2\u001b[0m.\u001b[1;36m2\u001b[0m\u001b[33m...\u001b[0m\n",
      "\u001b[2K\u001b[1mAdding \u001b[0m\u001b[1;32mscikit-learn\u001b[0m to Pipfile's \u001b[1;33m[\u001b[0m\u001b[33mpackages\u001b[0m\u001b[1;33m]\u001b[0m \u001b[33m...\u001b[0m\n",
      "\u001b[2K✔ Installation Succeeded-learn...\n",
      "\u001b[2K\u001b[32m⠋\u001b[0m Installing scikit-learn...\n",
      "\u001b[1A\u001b[2K\u001b[32m\u001b[1mInstalling numpy...\u001b[0m\n",
      "\u001b[?25lResolving numpy\u001b[33m...\u001b[0m\n",
      "\u001b[2K\u001b[1mAdding \u001b[0m\u001b[1;32mnumpy\u001b[0m to Pipfile's \u001b[1;33m[\u001b[0m\u001b[33mpackages\u001b[0m\u001b[1;33m]\u001b[0m \u001b[33m...\u001b[0m\n",
      "\u001b[2K✔ Installation Succeeded..\n",
      "\u001b[2K\u001b[32m⠋\u001b[0m Installing numpy...\n",
      "\u001b[1A\u001b[2K\u001b[33m\u001b[1mPipfile.lock (adef82) out of date, updating to (320df3)...\u001b[0m\n",
      "Locking\u001b[0m \u001b[33m[packages]\u001b[0m dependencies...\u001b[0m\n",
      "\u001b[?25lBuilding requirements\u001b[33m...\u001b[0m\n",
      "\u001b[2KResolving dependencies\u001b[33m...\u001b[0m\n",
      "\u001b[2K✔ Success! Locking...\n",
      "\u001b[2K\u001b[32m⠴\u001b[0m Locking...\n",
      "\u001b[1A\u001b[2KLocking\u001b[0m \u001b[33m[dev-packages]\u001b[0m dependencies...\u001b[0m\n",
      "\u001b[1mUpdated Pipfile.lock (1394ff455dddd9f9933eb7d28e1a21f255771fab9ce33c1c526d7a2f86320df3)!\u001b[0m\n",
      "\u001b[1mInstalling dependencies from Pipfile.lock (320df3)...\u001b[0m\n",
      "To activate this project's virtualenv, run \u001b[33mpipenv shell\u001b[0m.\n",
      "Alternatively, run a command inside the virtualenv with \u001b[33mpipenv run\u001b[0m.\n"
     ]
    }
   ],
   "source": [
    "!pipenv install pandas==1.5.2 pyarrow==10.0.1 scikit-learn==1.2.2 numpy==1.24.3"
   ]
  },
  {
   "cell_type": "markdown",
   "id": "a57555fa",
   "metadata": {},
   "source": [
    "# Q5"
   ]
  },
  {
   "cell_type": "code",
   "execution_count": 13,
   "id": "ccec22ae",
   "metadata": {},
   "outputs": [
    {
     "name": "stdout",
     "output_type": "stream",
     "text": [
      "Dowloading https://d37ci6vzurychx.cloudfront.net/trip-data/yellow_tripdata_2022-03.parquet...\n",
      "Doing prediction for 3539827 rows...\n",
      "mean pred: 12.758556818790902, std pred: 5.556602554785001\n",
      "Saving the result to ./yellow_tripdata_2022-03.parquet...\n"
     ]
    }
   ],
   "source": [
    "!python hw4.py --month=3 --year=2022"
   ]
  },
  {
   "cell_type": "markdown",
   "id": "a361b45f",
   "metadata": {},
   "source": [
    "# Q6"
   ]
  },
  {
   "cell_type": "code",
   "execution_count": 1,
   "id": "777f0cf8",
   "metadata": {},
   "outputs": [
    {
     "name": "stdout",
     "output_type": "stream",
     "text": [
      "\u001b[1A\u001b[1B\u001b[0G\u001b[?25l[+] Building 0.0s (0/1)                                                         \n",
      "\u001b[?25h\u001b[1A\u001b[0G\u001b[?25l[+] Building 0.2s (2/3)                                                         \n",
      "\u001b[34m => [internal] load build definition from Dockerfile                       0.0s\n",
      "\u001b[0m\u001b[34m => => transferring dockerfile: 281B                                       0.0s\n",
      "\u001b[0m\u001b[34m => [internal] load .dockerignore                                          0.0s\n",
      "\u001b[0m\u001b[34m => => transferring context: 2B                                            0.0s\n",
      "\u001b[0m => [internal] load metadata for docker.io/svizor/zoomcamp-model:mlops-3.  0.1s\n",
      "\u001b[?25h\u001b[1A\u001b[1A\u001b[1A\u001b[1A\u001b[1A\u001b[1A\u001b[0G\u001b[?25l[+] Building 0.3s (2/3)                                                         \n",
      "\u001b[34m => [internal] load build definition from Dockerfile                       0.0s\n",
      "\u001b[0m\u001b[34m => => transferring dockerfile: 281B                                       0.0s\n",
      "\u001b[0m\u001b[34m => [internal] load .dockerignore                                          0.0s\n",
      "\u001b[0m\u001b[34m => => transferring context: 2B                                            0.0s\n",
      "\u001b[0m => [internal] load metadata for docker.io/svizor/zoomcamp-model:mlops-3.  0.3s\n",
      "\u001b[?25h\u001b[1A\u001b[1A\u001b[1A\u001b[1A\u001b[1A\u001b[1A\u001b[0G\u001b[?25l[+] Building 0.4s (3/3)                                                         \n",
      "\u001b[34m => [internal] load build definition from Dockerfile                       0.0s\n",
      "\u001b[0m\u001b[34m => => transferring dockerfile: 281B                                       0.0s\n",
      "\u001b[0m\u001b[34m => [internal] load .dockerignore                                          0.0s\n",
      "\u001b[0m\u001b[34m => => transferring context: 2B                                            0.0s\n",
      "\u001b[0m\u001b[34m => [internal] load metadata for docker.io/svizor/zoomcamp-model:mlops-3.  0.4s\n",
      "\u001b[0m\u001b[?25h\u001b[1A\u001b[1A\u001b[1A\u001b[1A\u001b[1A\u001b[1A\u001b[0G\u001b[?25l[+] Building 0.4s (12/12) FINISHED                                              \n",
      "\u001b[34m => [internal] load build definition from Dockerfile                       0.0s\n",
      "\u001b[0m\u001b[34m => => transferring dockerfile: 281B                                       0.0s\n",
      "\u001b[0m\u001b[34m => [internal] load .dockerignore                                          0.0s\n",
      "\u001b[0m\u001b[34m => => transferring context: 2B                                            0.0s\n",
      "\u001b[0m\u001b[34m => [internal] load metadata for docker.io/svizor/zoomcamp-model:mlops-3.  0.4s\n",
      "\u001b[0m\u001b[34m => [1/7] FROM docker.io/svizor/zoomcamp-model:mlops-3.10.0-slim@sha256:5  0.0s\n",
      "\u001b[0m\u001b[34m => [internal] load build context                                          0.0s\n",
      "\u001b[0m\u001b[34m => => transferring context: 87B                                           0.0s\n",
      "\u001b[0m\u001b[34m => CACHED [2/7] RUN pip install -U pip                                    0.0s\n",
      "\u001b[0m\u001b[34m => CACHED [3/7] RUN pip install pipenv                                    0.0s\n",
      "\u001b[0m\u001b[34m => CACHED [4/7] COPY Pipfile* .                                           0.0s\n",
      "\u001b[0m\u001b[34m => CACHED [5/7] RUN pipenv --python /usr/local/bin/python                 0.0s\n",
      "\u001b[0m\u001b[34m => CACHED [6/7] RUN pipenv install --deploy --system                      0.0s\n",
      "\u001b[0m\u001b[34m => CACHED [7/7] COPY hw4.py hw4.py                                        0.0s\n",
      "\u001b[0m\u001b[34m => exporting to image                                                     0.0s\n",
      "\u001b[0m\u001b[34m => => exporting layers                                                    0.0s\n",
      "\u001b[0m\u001b[34m => => writing image sha256:553ff0af9ca3aca9e95d08679c135fbe97833821a8a79  0.0s\n",
      "\u001b[0m\u001b[34m => => naming to docker.io/library/predict:v0                              0.0s\n",
      "\u001b[0m\u001b[?25h"
     ]
    }
   ],
   "source": [
    "!docker build -t predict:v0 ."
   ]
  },
  {
   "cell_type": "code",
   "execution_count": 2,
   "id": "85f41bee",
   "metadata": {},
   "outputs": [
    {
     "name": "stdout",
     "output_type": "stream",
     "text": [
      "Dowloading https://d37ci6vzurychx.cloudfront.net/trip-data/yellow_tripdata_2022-04.parquet...\n",
      "Doing prediction for 3501820 rows...\n",
      "mean pred: 12.827242870079969, std pred: 5.454050512131105...\n",
      "Saving the result to ./yellow_tripdata_2022-04.parquet...\n"
     ]
    }
   ],
   "source": [
    "!docker run -it predict:v0 --month=4 --year=2022"
   ]
  },
  {
   "cell_type": "code",
   "execution_count": null,
   "id": "e737142e",
   "metadata": {},
   "outputs": [],
   "source": []
  }
 ],
 "metadata": {
  "kernelspec": {
   "display_name": "Python 3 (ipykernel)",
   "language": "python",
   "name": "python3"
  },
  "language_info": {
   "codemirror_mode": {
    "name": "ipython",
    "version": 3
   },
   "file_extension": ".py",
   "mimetype": "text/x-python",
   "name": "python",
   "nbconvert_exporter": "python",
   "pygments_lexer": "ipython3",
   "version": "3.8.16"
  }
 },
 "nbformat": 4,
 "nbformat_minor": 5
}
