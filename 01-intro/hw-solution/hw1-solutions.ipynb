{
 "cells": [
  {
   "cell_type": "code",
   "execution_count": 1,
   "id": "7cbc6eb5",
   "metadata": {},
   "outputs": [
    {
     "name": "stdout",
     "output_type": "stream",
     "text": [
      "Looking in indexes: https://pypi.org/simple, https://pypi.ngc.nvidia.com\n",
      "Requirement already satisfied: pandas in /home/cemmi/anaconda3/envs/de-zoomcamp/lib/python3.8/site-packages (from -r requirements.txt (line 1)) (1.5.2)\n",
      "Requirement already satisfied: numpy in /home/cemmi/anaconda3/envs/de-zoomcamp/lib/python3.8/site-packages (from -r requirements.txt (line 2)) (1.24.1)\n",
      "Requirement already satisfied: jupyter in /home/cemmi/anaconda3/envs/de-zoomcamp/lib/python3.8/site-packages (from -r requirements.txt (line 3)) (1.0.0)\n",
      "Requirement already satisfied: pyarrow in /home/cemmi/anaconda3/envs/de-zoomcamp/lib/python3.8/site-packages (from -r requirements.txt (line 4)) (10.0.1)\n",
      "Requirement already satisfied: scikit-learn in /home/cemmi/anaconda3/envs/de-zoomcamp/lib/python3.8/site-packages (from -r requirements.txt (line 5)) (1.2.2)\n",
      "Requirement already satisfied: matplotlib in /home/cemmi/anaconda3/envs/de-zoomcamp/lib/python3.8/site-packages (from -r requirements.txt (line 6)) (3.7.1)\n",
      "Requirement already satisfied: seaborn in /home/cemmi/anaconda3/envs/de-zoomcamp/lib/python3.8/site-packages (from -r requirements.txt (line 7)) (0.12.2)\n",
      "Requirement already satisfied: python-dateutil>=2.8.1 in /home/cemmi/anaconda3/envs/de-zoomcamp/lib/python3.8/site-packages (from pandas->-r requirements.txt (line 1)) (2.8.2)\n",
      "Requirement already satisfied: pytz>=2020.1 in /home/cemmi/anaconda3/envs/de-zoomcamp/lib/python3.8/site-packages (from pandas->-r requirements.txt (line 1)) (2022.7.1)\n",
      "Requirement already satisfied: qtconsole in /home/cemmi/anaconda3/envs/de-zoomcamp/lib/python3.8/site-packages (from jupyter->-r requirements.txt (line 3)) (5.4.3)\n",
      "Requirement already satisfied: ipykernel in /home/cemmi/anaconda3/envs/de-zoomcamp/lib/python3.8/site-packages (from jupyter->-r requirements.txt (line 3)) (6.23.1)\n",
      "Requirement already satisfied: ipywidgets in /home/cemmi/anaconda3/envs/de-zoomcamp/lib/python3.8/site-packages (from jupyter->-r requirements.txt (line 3)) (8.0.6)\n",
      "Requirement already satisfied: jupyter-console in /home/cemmi/anaconda3/envs/de-zoomcamp/lib/python3.8/site-packages (from jupyter->-r requirements.txt (line 3)) (6.6.3)\n",
      "Requirement already satisfied: notebook in /home/cemmi/anaconda3/envs/de-zoomcamp/lib/python3.8/site-packages (from jupyter->-r requirements.txt (line 3)) (6.5.4)\n",
      "Requirement already satisfied: nbconvert in /home/cemmi/anaconda3/envs/de-zoomcamp/lib/python3.8/site-packages (from jupyter->-r requirements.txt (line 3)) (7.4.0)\n",
      "Requirement already satisfied: scipy>=1.3.2 in /home/cemmi/anaconda3/envs/de-zoomcamp/lib/python3.8/site-packages (from scikit-learn->-r requirements.txt (line 5)) (1.10.1)\n",
      "Requirement already satisfied: joblib>=1.1.1 in /home/cemmi/anaconda3/envs/de-zoomcamp/lib/python3.8/site-packages (from scikit-learn->-r requirements.txt (line 5)) (1.2.0)\n",
      "Requirement already satisfied: threadpoolctl>=2.0.0 in /home/cemmi/anaconda3/envs/de-zoomcamp/lib/python3.8/site-packages (from scikit-learn->-r requirements.txt (line 5)) (3.1.0)\n",
      "Requirement already satisfied: fonttools>=4.22.0 in /home/cemmi/anaconda3/envs/de-zoomcamp/lib/python3.8/site-packages (from matplotlib->-r requirements.txt (line 6)) (4.39.4)\n",
      "Requirement already satisfied: importlib-resources>=3.2.0 in /home/cemmi/anaconda3/envs/de-zoomcamp/lib/python3.8/site-packages (from matplotlib->-r requirements.txt (line 6)) (5.10.2)\n",
      "Requirement already satisfied: pillow>=6.2.0 in /home/cemmi/anaconda3/envs/de-zoomcamp/lib/python3.8/site-packages (from matplotlib->-r requirements.txt (line 6)) (9.5.0)\n",
      "Requirement already satisfied: contourpy>=1.0.1 in /home/cemmi/anaconda3/envs/de-zoomcamp/lib/python3.8/site-packages (from matplotlib->-r requirements.txt (line 6)) (1.0.7)\n",
      "Requirement already satisfied: kiwisolver>=1.0.1 in /home/cemmi/anaconda3/envs/de-zoomcamp/lib/python3.8/site-packages (from matplotlib->-r requirements.txt (line 6)) (1.4.4)\n",
      "Requirement already satisfied: packaging>=20.0 in /home/cemmi/anaconda3/envs/de-zoomcamp/lib/python3.8/site-packages (from matplotlib->-r requirements.txt (line 6)) (23.0)\n",
      "Requirement already satisfied: cycler>=0.10 in /home/cemmi/anaconda3/envs/de-zoomcamp/lib/python3.8/site-packages (from matplotlib->-r requirements.txt (line 6)) (0.11.0)\n",
      "Requirement already satisfied: pyparsing>=2.3.1 in /home/cemmi/anaconda3/envs/de-zoomcamp/lib/python3.8/site-packages (from matplotlib->-r requirements.txt (line 6)) (3.0.9)\n",
      "Requirement already satisfied: zipp>=3.1.0 in /home/cemmi/anaconda3/envs/de-zoomcamp/lib/python3.8/site-packages (from importlib-resources>=3.2.0->matplotlib->-r requirements.txt (line 6)) (3.12.0)\n",
      "Requirement already satisfied: six>=1.5 in /home/cemmi/anaconda3/envs/de-zoomcamp/lib/python3.8/site-packages (from python-dateutil>=2.8.1->pandas->-r requirements.txt (line 1)) (1.16.0)\n",
      "Requirement already satisfied: nest-asyncio in /home/cemmi/anaconda3/envs/de-zoomcamp/lib/python3.8/site-packages (from ipykernel->jupyter->-r requirements.txt (line 3)) (1.5.6)\n",
      "Requirement already satisfied: jupyter-client>=6.1.12 in /home/cemmi/anaconda3/envs/de-zoomcamp/lib/python3.8/site-packages (from ipykernel->jupyter->-r requirements.txt (line 3)) (8.2.0)\n",
      "Requirement already satisfied: matplotlib-inline>=0.1 in /home/cemmi/anaconda3/envs/de-zoomcamp/lib/python3.8/site-packages (from ipykernel->jupyter->-r requirements.txt (line 3)) (0.1.6)\n",
      "Requirement already satisfied: comm>=0.1.1 in /home/cemmi/anaconda3/envs/de-zoomcamp/lib/python3.8/site-packages (from ipykernel->jupyter->-r requirements.txt (line 3)) (0.1.3)\n",
      "Requirement already satisfied: pyzmq>=20 in /home/cemmi/anaconda3/envs/de-zoomcamp/lib/python3.8/site-packages (from ipykernel->jupyter->-r requirements.txt (line 3)) (25.0.2)\n",
      "Requirement already satisfied: tornado>=6.1 in /home/cemmi/anaconda3/envs/de-zoomcamp/lib/python3.8/site-packages (from ipykernel->jupyter->-r requirements.txt (line 3)) (6.3.2)\n",
      "Requirement already satisfied: psutil in /home/cemmi/anaconda3/envs/de-zoomcamp/lib/python3.8/site-packages (from ipykernel->jupyter->-r requirements.txt (line 3)) (5.9.5)\n",
      "Requirement already satisfied: jupyter-core!=5.0.*,>=4.12 in /home/cemmi/anaconda3/envs/de-zoomcamp/lib/python3.8/site-packages (from ipykernel->jupyter->-r requirements.txt (line 3)) (5.3.0)\n",
      "Requirement already satisfied: traitlets>=5.4.0 in /home/cemmi/anaconda3/envs/de-zoomcamp/lib/python3.8/site-packages (from ipykernel->jupyter->-r requirements.txt (line 3)) (5.9.0)\n",
      "Requirement already satisfied: ipython>=7.23.1 in /home/cemmi/anaconda3/envs/de-zoomcamp/lib/python3.8/site-packages (from ipykernel->jupyter->-r requirements.txt (line 3)) (8.12.2)\n",
      "Requirement already satisfied: debugpy>=1.6.5 in /home/cemmi/anaconda3/envs/de-zoomcamp/lib/python3.8/site-packages (from ipykernel->jupyter->-r requirements.txt (line 3)) (1.6.7)\n",
      "Requirement already satisfied: widgetsnbextension~=4.0.7 in /home/cemmi/anaconda3/envs/de-zoomcamp/lib/python3.8/site-packages (from ipywidgets->jupyter->-r requirements.txt (line 3)) (4.0.7)\n",
      "Requirement already satisfied: jupyterlab-widgets~=3.0.7 in /home/cemmi/anaconda3/envs/de-zoomcamp/lib/python3.8/site-packages (from ipywidgets->jupyter->-r requirements.txt (line 3)) (3.0.7)\n",
      "Requirement already satisfied: prompt-toolkit>=3.0.30 in /home/cemmi/anaconda3/envs/de-zoomcamp/lib/python3.8/site-packages (from jupyter-console->jupyter->-r requirements.txt (line 3)) (3.0.38)\n",
      "Requirement already satisfied: pygments in /home/cemmi/anaconda3/envs/de-zoomcamp/lib/python3.8/site-packages (from jupyter-console->jupyter->-r requirements.txt (line 3)) (2.14.0)\n",
      "Requirement already satisfied: beautifulsoup4 in /home/cemmi/anaconda3/envs/de-zoomcamp/lib/python3.8/site-packages (from nbconvert->jupyter->-r requirements.txt (line 3)) (4.12.2)\n",
      "Requirement already satisfied: nbformat>=5.1 in /home/cemmi/anaconda3/envs/de-zoomcamp/lib/python3.8/site-packages (from nbconvert->jupyter->-r requirements.txt (line 3)) (5.8.0)\n",
      "Requirement already satisfied: mistune<3,>=2.0.3 in /home/cemmi/anaconda3/envs/de-zoomcamp/lib/python3.8/site-packages (from nbconvert->jupyter->-r requirements.txt (line 3)) (2.0.5)\n",
      "Requirement already satisfied: bleach in /home/cemmi/anaconda3/envs/de-zoomcamp/lib/python3.8/site-packages (from nbconvert->jupyter->-r requirements.txt (line 3)) (6.0.0)\n",
      "Requirement already satisfied: jinja2>=3.0 in /home/cemmi/anaconda3/envs/de-zoomcamp/lib/python3.8/site-packages (from nbconvert->jupyter->-r requirements.txt (line 3)) (3.1.2)\n",
      "Requirement already satisfied: nbclient>=0.5.0 in /home/cemmi/anaconda3/envs/de-zoomcamp/lib/python3.8/site-packages (from nbconvert->jupyter->-r requirements.txt (line 3)) (0.7.4)\n",
      "Requirement already satisfied: pandocfilters>=1.4.1 in /home/cemmi/anaconda3/envs/de-zoomcamp/lib/python3.8/site-packages (from nbconvert->jupyter->-r requirements.txt (line 3)) (1.5.0)\n",
      "Requirement already satisfied: importlib-metadata>=3.6 in /home/cemmi/anaconda3/envs/de-zoomcamp/lib/python3.8/site-packages (from nbconvert->jupyter->-r requirements.txt (line 3)) (6.0.0)\n",
      "Requirement already satisfied: defusedxml in /home/cemmi/anaconda3/envs/de-zoomcamp/lib/python3.8/site-packages (from nbconvert->jupyter->-r requirements.txt (line 3)) (0.7.1)\n",
      "Requirement already satisfied: jupyterlab-pygments in /home/cemmi/anaconda3/envs/de-zoomcamp/lib/python3.8/site-packages (from nbconvert->jupyter->-r requirements.txt (line 3)) (0.2.2)\n",
      "Requirement already satisfied: tinycss2 in /home/cemmi/anaconda3/envs/de-zoomcamp/lib/python3.8/site-packages (from nbconvert->jupyter->-r requirements.txt (line 3)) (1.2.1)\n",
      "Requirement already satisfied: markupsafe>=2.0 in /home/cemmi/anaconda3/envs/de-zoomcamp/lib/python3.8/site-packages (from nbconvert->jupyter->-r requirements.txt (line 3)) (2.1.2)\n",
      "Requirement already satisfied: argon2-cffi in /home/cemmi/anaconda3/envs/de-zoomcamp/lib/python3.8/site-packages (from notebook->jupyter->-r requirements.txt (line 3)) (21.3.0)\n",
      "Requirement already satisfied: ipython-genutils in /home/cemmi/anaconda3/envs/de-zoomcamp/lib/python3.8/site-packages (from notebook->jupyter->-r requirements.txt (line 3)) (0.2.0)\n",
      "Requirement already satisfied: prometheus-client in /home/cemmi/anaconda3/envs/de-zoomcamp/lib/python3.8/site-packages (from notebook->jupyter->-r requirements.txt (line 3)) (0.16.0)\n",
      "Requirement already satisfied: nbclassic>=0.4.7 in /home/cemmi/anaconda3/envs/de-zoomcamp/lib/python3.8/site-packages (from notebook->jupyter->-r requirements.txt (line 3)) (1.0.0)\n",
      "Requirement already satisfied: Send2Trash>=1.8.0 in /home/cemmi/anaconda3/envs/de-zoomcamp/lib/python3.8/site-packages (from notebook->jupyter->-r requirements.txt (line 3)) (1.8.2)\n",
      "Requirement already satisfied: terminado>=0.8.3 in /home/cemmi/anaconda3/envs/de-zoomcamp/lib/python3.8/site-packages (from notebook->jupyter->-r requirements.txt (line 3)) (0.17.1)\n",
      "Requirement already satisfied: qtpy>=2.0.1 in /home/cemmi/anaconda3/envs/de-zoomcamp/lib/python3.8/site-packages (from qtconsole->jupyter->-r requirements.txt (line 3)) (2.3.1)\n"
     ]
    },
    {
     "name": "stdout",
     "output_type": "stream",
     "text": [
      "Requirement already satisfied: pickleshare in /home/cemmi/anaconda3/envs/de-zoomcamp/lib/python3.8/site-packages (from ipython>=7.23.1->ipykernel->jupyter->-r requirements.txt (line 3)) (0.7.5)\n",
      "Requirement already satisfied: pexpect>4.3 in /home/cemmi/anaconda3/envs/de-zoomcamp/lib/python3.8/site-packages (from ipython>=7.23.1->ipykernel->jupyter->-r requirements.txt (line 3)) (4.8.0)\n",
      "Requirement already satisfied: decorator in /home/cemmi/anaconda3/envs/de-zoomcamp/lib/python3.8/site-packages (from ipython>=7.23.1->ipykernel->jupyter->-r requirements.txt (line 3)) (5.1.1)\n",
      "Requirement already satisfied: stack-data in /home/cemmi/anaconda3/envs/de-zoomcamp/lib/python3.8/site-packages (from ipython>=7.23.1->ipykernel->jupyter->-r requirements.txt (line 3)) (0.6.2)\n",
      "Requirement already satisfied: jedi>=0.16 in /home/cemmi/anaconda3/envs/de-zoomcamp/lib/python3.8/site-packages (from ipython>=7.23.1->ipykernel->jupyter->-r requirements.txt (line 3)) (0.18.2)\n",
      "Requirement already satisfied: backcall in /home/cemmi/anaconda3/envs/de-zoomcamp/lib/python3.8/site-packages (from ipython>=7.23.1->ipykernel->jupyter->-r requirements.txt (line 3)) (0.2.0)\n",
      "Requirement already satisfied: typing-extensions in /home/cemmi/anaconda3/envs/de-zoomcamp/lib/python3.8/site-packages (from ipython>=7.23.1->ipykernel->jupyter->-r requirements.txt (line 3)) (4.4.0)\n",
      "Requirement already satisfied: platformdirs>=2.5 in /home/cemmi/anaconda3/envs/de-zoomcamp/lib/python3.8/site-packages (from jupyter-core!=5.0.*,>=4.12->ipykernel->jupyter->-r requirements.txt (line 3)) (3.5.1)\n",
      "Requirement already satisfied: jupyter-server>=1.8 in /home/cemmi/anaconda3/envs/de-zoomcamp/lib/python3.8/site-packages (from nbclassic>=0.4.7->notebook->jupyter->-r requirements.txt (line 3)) (2.5.0)\n",
      "Requirement already satisfied: notebook-shim>=0.2.3 in /home/cemmi/anaconda3/envs/de-zoomcamp/lib/python3.8/site-packages (from nbclassic>=0.4.7->notebook->jupyter->-r requirements.txt (line 3)) (0.2.3)\n",
      "Requirement already satisfied: fastjsonschema in /home/cemmi/anaconda3/envs/de-zoomcamp/lib/python3.8/site-packages (from nbformat>=5.1->nbconvert->jupyter->-r requirements.txt (line 3)) (2.16.3)\n",
      "Requirement already satisfied: jsonschema>=2.6 in /home/cemmi/anaconda3/envs/de-zoomcamp/lib/python3.8/site-packages (from nbformat>=5.1->nbconvert->jupyter->-r requirements.txt (line 3)) (4.17.3)\n",
      "Requirement already satisfied: wcwidth in /home/cemmi/anaconda3/envs/de-zoomcamp/lib/python3.8/site-packages (from prompt-toolkit>=3.0.30->jupyter-console->jupyter->-r requirements.txt (line 3)) (0.2.6)\n",
      "Requirement already satisfied: ptyprocess in /home/cemmi/anaconda3/envs/de-zoomcamp/lib/python3.8/site-packages (from terminado>=0.8.3->notebook->jupyter->-r requirements.txt (line 3)) (0.7.0)\n",
      "Requirement already satisfied: argon2-cffi-bindings in /home/cemmi/anaconda3/envs/de-zoomcamp/lib/python3.8/site-packages (from argon2-cffi->notebook->jupyter->-r requirements.txt (line 3)) (21.2.0)\n",
      "Requirement already satisfied: soupsieve>1.2 in /home/cemmi/anaconda3/envs/de-zoomcamp/lib/python3.8/site-packages (from beautifulsoup4->nbconvert->jupyter->-r requirements.txt (line 3)) (2.4.1)\n",
      "Requirement already satisfied: webencodings in /home/cemmi/anaconda3/envs/de-zoomcamp/lib/python3.8/site-packages (from bleach->nbconvert->jupyter->-r requirements.txt (line 3)) (0.5.1)\n",
      "Requirement already satisfied: parso<0.9.0,>=0.8.0 in /home/cemmi/anaconda3/envs/de-zoomcamp/lib/python3.8/site-packages (from jedi>=0.16->ipython>=7.23.1->ipykernel->jupyter->-r requirements.txt (line 3)) (0.8.3)\n",
      "Requirement already satisfied: pyrsistent!=0.17.0,!=0.17.1,!=0.17.2,>=0.14.0 in /home/cemmi/anaconda3/envs/de-zoomcamp/lib/python3.8/site-packages (from jsonschema>=2.6->nbformat>=5.1->nbconvert->jupyter->-r requirements.txt (line 3)) (0.19.3)\n",
      "Requirement already satisfied: pkgutil-resolve-name>=1.3.10 in /home/cemmi/anaconda3/envs/de-zoomcamp/lib/python3.8/site-packages (from jsonschema>=2.6->nbformat>=5.1->nbconvert->jupyter->-r requirements.txt (line 3)) (1.3.10)\n",
      "Requirement already satisfied: attrs>=17.4.0 in /home/cemmi/anaconda3/envs/de-zoomcamp/lib/python3.8/site-packages (from jsonschema>=2.6->nbformat>=5.1->nbconvert->jupyter->-r requirements.txt (line 3)) (23.1.0)\n",
      "Requirement already satisfied: jupyter-events>=0.4.0 in /home/cemmi/anaconda3/envs/de-zoomcamp/lib/python3.8/site-packages (from jupyter-server>=1.8->nbclassic>=0.4.7->notebook->jupyter->-r requirements.txt (line 3)) (0.6.3)\n",
      "Requirement already satisfied: jupyter-server-terminals in /home/cemmi/anaconda3/envs/de-zoomcamp/lib/python3.8/site-packages (from jupyter-server>=1.8->nbclassic>=0.4.7->notebook->jupyter->-r requirements.txt (line 3)) (0.4.4)\n",
      "Requirement already satisfied: websocket-client in /home/cemmi/anaconda3/envs/de-zoomcamp/lib/python3.8/site-packages (from jupyter-server>=1.8->nbclassic>=0.4.7->notebook->jupyter->-r requirements.txt (line 3)) (1.5.0)\n",
      "Requirement already satisfied: anyio>=3.1.0 in /home/cemmi/anaconda3/envs/de-zoomcamp/lib/python3.8/site-packages (from jupyter-server>=1.8->nbclassic>=0.4.7->notebook->jupyter->-r requirements.txt (line 3)) (3.6.2)\n",
      "Requirement already satisfied: cffi>=1.0.1 in /home/cemmi/anaconda3/envs/de-zoomcamp/lib/python3.8/site-packages (from argon2-cffi-bindings->argon2-cffi->notebook->jupyter->-r requirements.txt (line 3)) (1.15.1)\n",
      "Requirement already satisfied: asttokens>=2.1.0 in /home/cemmi/anaconda3/envs/de-zoomcamp/lib/python3.8/site-packages (from stack-data->ipython>=7.23.1->ipykernel->jupyter->-r requirements.txt (line 3)) (2.2.1)\n",
      "Requirement already satisfied: executing>=1.2.0 in /home/cemmi/anaconda3/envs/de-zoomcamp/lib/python3.8/site-packages (from stack-data->ipython>=7.23.1->ipykernel->jupyter->-r requirements.txt (line 3)) (1.2.0)\n",
      "Requirement already satisfied: pure-eval in /home/cemmi/anaconda3/envs/de-zoomcamp/lib/python3.8/site-packages (from stack-data->ipython>=7.23.1->ipykernel->jupyter->-r requirements.txt (line 3)) (0.2.2)\n",
      "Requirement already satisfied: idna>=2.8 in /home/cemmi/anaconda3/envs/de-zoomcamp/lib/python3.8/site-packages (from anyio>=3.1.0->jupyter-server>=1.8->nbclassic>=0.4.7->notebook->jupyter->-r requirements.txt (line 3)) (3.4)\n",
      "Requirement already satisfied: sniffio>=1.1 in /home/cemmi/anaconda3/envs/de-zoomcamp/lib/python3.8/site-packages (from anyio>=3.1.0->jupyter-server>=1.8->nbclassic>=0.4.7->notebook->jupyter->-r requirements.txt (line 3)) (1.3.0)\n",
      "Requirement already satisfied: pycparser in /home/cemmi/anaconda3/envs/de-zoomcamp/lib/python3.8/site-packages (from cffi>=1.0.1->argon2-cffi-bindings->argon2-cffi->notebook->jupyter->-r requirements.txt (line 3)) (2.21)\n",
      "Requirement already satisfied: rfc3986-validator>=0.1.1 in /home/cemmi/anaconda3/envs/de-zoomcamp/lib/python3.8/site-packages (from jupyter-events>=0.4.0->jupyter-server>=1.8->nbclassic>=0.4.7->notebook->jupyter->-r requirements.txt (line 3)) (0.1.1)\n",
      "Requirement already satisfied: pyyaml>=5.3 in /home/cemmi/anaconda3/envs/de-zoomcamp/lib/python3.8/site-packages (from jupyter-events>=0.4.0->jupyter-server>=1.8->nbclassic>=0.4.7->notebook->jupyter->-r requirements.txt (line 3)) (6.0)\n",
      "Requirement already satisfied: python-json-logger>=2.0.4 in /home/cemmi/anaconda3/envs/de-zoomcamp/lib/python3.8/site-packages (from jupyter-events>=0.4.0->jupyter-server>=1.8->nbclassic>=0.4.7->notebook->jupyter->-r requirements.txt (line 3)) (2.0.7)\n",
      "Requirement already satisfied: rfc3339-validator in /home/cemmi/anaconda3/envs/de-zoomcamp/lib/python3.8/site-packages (from jupyter-events>=0.4.0->jupyter-server>=1.8->nbclassic>=0.4.7->notebook->jupyter->-r requirements.txt (line 3)) (0.1.4)\n",
      "Requirement already satisfied: uri-template in /home/cemmi/anaconda3/envs/de-zoomcamp/lib/python3.8/site-packages (from jsonschema>=2.6->nbformat>=5.1->nbconvert->jupyter->-r requirements.txt (line 3)) (1.2.0)\n",
      "Requirement already satisfied: webcolors>=1.11 in /home/cemmi/anaconda3/envs/de-zoomcamp/lib/python3.8/site-packages (from jsonschema>=2.6->nbformat>=5.1->nbconvert->jupyter->-r requirements.txt (line 3)) (1.13)\n",
      "Requirement already satisfied: jsonpointer>1.13 in /home/cemmi/anaconda3/envs/de-zoomcamp/lib/python3.8/site-packages (from jsonschema>=2.6->nbformat>=5.1->nbconvert->jupyter->-r requirements.txt (line 3)) (2.3)\n",
      "Requirement already satisfied: fqdn in /home/cemmi/anaconda3/envs/de-zoomcamp/lib/python3.8/site-packages (from jsonschema>=2.6->nbformat>=5.1->nbconvert->jupyter->-r requirements.txt (line 3)) (1.5.1)\n",
      "Requirement already satisfied: isoduration in /home/cemmi/anaconda3/envs/de-zoomcamp/lib/python3.8/site-packages (from jsonschema>=2.6->nbformat>=5.1->nbconvert->jupyter->-r requirements.txt (line 3)) (20.11.0)\n"
     ]
    },
    {
     "name": "stdout",
     "output_type": "stream",
     "text": [
      "Requirement already satisfied: arrow>=0.15.0 in /home/cemmi/anaconda3/envs/de-zoomcamp/lib/python3.8/site-packages (from isoduration->jsonschema>=2.6->nbformat>=5.1->nbconvert->jupyter->-r requirements.txt (line 3)) (1.2.3)\r\n"
     ]
    }
   ],
   "source": [
    "!pip install -r requirements.txt"
   ]
  },
  {
   "cell_type": "markdown",
   "id": "46b010d9",
   "metadata": {},
   "source": [
    "## Install Data"
   ]
  },
  {
   "cell_type": "code",
   "execution_count": 2,
   "id": "15aa9f93",
   "metadata": {},
   "outputs": [
    {
     "name": "stdout",
     "output_type": "stream",
     "text": [
      "--2023-05-19 23:39:13--  https://d37ci6vzurychx.cloudfront.net/trip-data/yellow_tripdata_2022-01.parquet\n",
      "Resolving d37ci6vzurychx.cloudfront.net (d37ci6vzurychx.cloudfront.net)... 2600:9000:2156:cc00:b:20a5:b140:21, 2600:9000:2156:d800:b:20a5:b140:21, 2600:9000:2156:5000:b:20a5:b140:21, ...\n",
      "Connecting to d37ci6vzurychx.cloudfront.net (d37ci6vzurychx.cloudfront.net)|2600:9000:2156:cc00:b:20a5:b140:21|:443... connected.\n",
      "HTTP request sent, awaiting response... 200 OK\n",
      "Length: 38139949 (36M) [application/x-www-form-urlencoded]\n",
      "Saving to: ‘data/yellow_tripdata_2022-01.parquet’\n",
      "\n",
      "data/yellow_tripdat 100%[===================>]  36,37M  10,9MB/s    in 3,4s    \n",
      "\n",
      "2023-05-19 23:39:17 (10,8 MB/s) - ‘data/yellow_tripdata_2022-01.parquet’ saved [38139949/38139949]\n",
      "\n",
      "--2023-05-19 23:39:17--  https://d37ci6vzurychx.cloudfront.net/trip-data/yellow_tripdata_2022-02.parquet\n",
      "Resolving d37ci6vzurychx.cloudfront.net (d37ci6vzurychx.cloudfront.net)... 2600:9000:2156:d800:b:20a5:b140:21, 2600:9000:2156:4c00:b:20a5:b140:21, 2600:9000:2156:e800:b:20a5:b140:21, ...\n",
      "Connecting to d37ci6vzurychx.cloudfront.net (d37ci6vzurychx.cloudfront.net)|2600:9000:2156:d800:b:20a5:b140:21|:443... connected.\n",
      "HTTP request sent, awaiting response... 200 OK\n",
      "Length: 45616512 (44M) [application/x-www-form-urlencoded]\n",
      "Saving to: ‘data/yellow_tripdata_2022-02.parquet’\n",
      "\n",
      "data/yellow_tripdat 100%[===================>]  43,50M  10,9MB/s    in 4,0s    \n",
      "\n",
      "2023-05-19 23:39:22 (10,9 MB/s) - ‘data/yellow_tripdata_2022-02.parquet’ saved [45616512/45616512]\n",
      "\n"
     ]
    }
   ],
   "source": [
    "!wget https://d37ci6vzurychx.cloudfront.net/trip-data/yellow_tripdata_2022-01.parquet -O data/yellow_tripdata_2022-01.parquet\n",
    "!wget https://d37ci6vzurychx.cloudfront.net/trip-data/yellow_tripdata_2022-02.parquet -O data/yellow_tripdata_2022-02.parquet"
   ]
  },
  {
   "cell_type": "markdown",
   "id": "e324bfc2",
   "metadata": {},
   "source": [
    "## Q1"
   ]
  },
  {
   "cell_type": "code",
   "execution_count": 3,
   "id": "dc5b1277",
   "metadata": {},
   "outputs": [
    {
     "name": "stdout",
     "output_type": "stream",
     "text": [
      "total columns are 19\n"
     ]
    }
   ],
   "source": [
    "import pandas as pd\n",
    "\n",
    "\n",
    "df_jan = pd.read_parquet('data/yellow_tripdata_2022-01.parquet')\n",
    "\n",
    "print(f\"total columns are {len(df_jan.columns)}\")"
   ]
  },
  {
   "cell_type": "markdown",
   "id": "9ef0afbf",
   "metadata": {},
   "source": [
    "## Q2"
   ]
  },
  {
   "cell_type": "code",
   "execution_count": 4,
   "id": "d2c00dd9",
   "metadata": {},
   "outputs": [
    {
     "name": "stdout",
     "output_type": "stream",
     "text": [
      "trip duration std in january is 46.44530513776802m\n"
     ]
    }
   ],
   "source": [
    "import numpy as np\n",
    "df_jan['duration_min'] =  (df_jan.tpep_dropoff_datetime - df_jan.tpep_pickup_datetime) / np.timedelta64(1, 'm')\n",
    "print(f'trip duration std in january is {df_jan.duration_min.std()}m')"
   ]
  },
  {
   "cell_type": "markdown",
   "id": "060022ef",
   "metadata": {},
   "source": [
    "## Q3"
   ]
  },
  {
   "cell_type": "code",
   "execution_count": 5,
   "id": "b5dda084",
   "metadata": {},
   "outputs": [
    {
     "data": {
      "image/png": "[encoded data removed]",
      "text/plain": [
       "<Figure size 640x480 with 2 Axes>"
      ]
     },
     "metadata": {},
     "output_type": "display_data"
    }
   ],
   "source": [
    "import matplotlib.pyplot as plt\n",
    "%matplotlib inline\n",
    "\n",
    "df_jan_filtered = df_jan[(1 <= df_jan.duration_min) & (df_jan.duration_min <= 60)]\n",
    "\n",
    "plt.subplot(2, 1, 1)\n",
    "plt.hist(df_jan.duration_min, bins=10)\n",
    "plt.title('Duration in min Before Outliers Removed')\n",
    "plt.subplot(2, 1, 2)\n",
    "plt.hist(df_jan_filtered.duration_min, bins=10)\n",
    "plt.title('Duration in min After Outliers Removed')\n",
    "plt.tight_layout()"
   ]
  },
  {
   "cell_type": "code",
   "execution_count": 6,
   "id": "fe10dfc6",
   "metadata": {},
   "outputs": [
    {
     "name": "stdout",
     "output_type": "stream",
     "text": [
      "after removing the outlier 98.27547930522405% of the data remained\n"
     ]
    }
   ],
   "source": [
    "print(f'after removing the outlier {100 * len(df_jan_filtered)/len(df_jan)}% of the data remained')"
   ]
  },
  {
   "cell_type": "markdown",
   "id": "978de40f",
   "metadata": {},
   "source": [
    "## Q4"
   ]
  },
  {
   "cell_type": "code",
   "execution_count": 7,
   "id": "9e7de75e",
   "metadata": {},
   "outputs": [],
   "source": [
    "from sklearn.feature_extraction import DictVectorizer\n",
    "\n",
    "df_jan_filtered = df_jan_filtered.astype({\"PULocationID\": str, \"DOLocationID\": str})\n",
    "dict_jan = df_jan_filtered[['PULocationID', 'DOLocationID']].to_dict('records')\n"
   ]
  },
  {
   "cell_type": "code",
   "execution_count": 8,
   "id": "ae49f9a4",
   "metadata": {},
   "outputs": [
    {
     "name": "stdout",
     "output_type": "stream",
     "text": [
      "total number of columns are 515\n"
     ]
    }
   ],
   "source": [
    "dv = DictVectorizer(sparse=False).fit(dict_jan)\n",
    "feat_jan = dv.transform(dict_jan)\n",
    "\n",
    "print(f'total number of columns are {feat_jan.shape[1]}')"
   ]
  },
  {
   "cell_type": "markdown",
   "id": "657e2060",
   "metadata": {},
   "source": [
    "## Q6"
   ]
  },
  {
   "cell_type": "code",
   "execution_count": 9,
   "id": "27f0983b",
   "metadata": {},
   "outputs": [],
   "source": [
    "from sklearn.linear_model import LinearRegression\n",
    "\n",
    "duration_jan = df_jan_filtered.duration_min.values\n",
    "reg = LinearRegression(n_jobs=-1).fit(feat_jan, duration_jan)"
   ]
  },
  {
   "cell_type": "code",
   "execution_count": 10,
   "id": "abc8917c",
   "metadata": {},
   "outputs": [
    {
     "data": {
      "text/plain": [
       "6.986191042436684"
      ]
     },
     "execution_count": 10,
     "metadata": {},
     "output_type": "execute_result"
    }
   ],
   "source": [
    "from sklearn.metrics import mean_squared_error\n",
    "\n",
    "duration_jan_pred = reg.predict(feat_jan)\n",
    "\n",
    "mean_squared_error(duration_jan, duration_jan_pred, squared=False)"
   ]
  },
  {
   "cell_type": "markdown",
   "id": "195dd222",
   "metadata": {},
   "source": [
    "## Q7"
   ]
  },
  {
   "cell_type": "code",
   "execution_count": 11,
   "id": "1010799c",
   "metadata": {},
   "outputs": [
    {
     "data": {
      "text/plain": [
       "7.7864206955560125"
      ]
     },
     "execution_count": 11,
     "metadata": {},
     "output_type": "execute_result"
    }
   ],
   "source": [
    "df_feb = pd.read_parquet('data/yellow_tripdata_2022-02.parquet')\n",
    "\n",
    "df_feb['duration_min'] =  (df_feb.tpep_dropoff_datetime - df_feb.tpep_pickup_datetime) / np.timedelta64(1, 'm')\n",
    "df_feb_filtered = df_feb[(1 <= df_feb.duration_min) & (df_feb.duration_min <= 60)]\n",
    "\n",
    "df_feb_filtered = df_feb_filtered.astype({\"PULocationID\": str, \"DOLocationID\": str})\n",
    "dict_feb = df_feb_filtered[['PULocationID', 'DOLocationID']].to_dict('records')\n",
    "\n",
    "feat_feb = dv.transform(dict_feb)\n",
    "\n",
    "duration_feb_pred = reg.predict(feat_feb)\n",
    "duration_feb_pred[np.where(np.sum(feat_feb, axis=1) < 2)] = 0\n",
    "duration_feb = df_feb_filtered.duration_min.values\n",
    "\n",
    "mean_squared_error(duration_feb, duration_feb_pred, squared=False)"
   ]
  },
  {
   "cell_type": "code",
   "execution_count": null,
   "id": "c3da28c5",
   "metadata": {},
   "outputs": [],
   "source": []
  }
 ],
 "metadata": {
  "kernelspec": {
   "display_name": "Python 3 (ipykernel)",
   "language": "python",
   "name": "python3"
  },
  "language_info": {
   "codemirror_mode": {
    "name": "ipython",
    "version": 3
   },
   "file_extension": ".py",
   "mimetype": "text/x-python",
   "name": "python",
   "nbconvert_exporter": "python",
   "pygments_lexer": "ipython3",
   "version": "3.8.16"
  }
 },
 "nbformat": 4,
 "nbformat_minor": 5
}
