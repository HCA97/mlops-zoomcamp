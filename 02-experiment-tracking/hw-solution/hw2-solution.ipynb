{
 "cells": [
  {
   "cell_type": "markdown",
   "id": "59e50e21",
   "metadata": {},
   "source": [
    "# Q1"
   ]
  },
  {
   "cell_type": "code",
   "execution_count": 1,
   "id": "177c2f34",
   "metadata": {},
   "outputs": [
    {
     "name": "stdout",
     "output_type": "stream",
     "text": [
      "Looking in indexes: https://pypi.org/simple, https://pypi.ngc.nvidia.com\n",
      "Requirement already satisfied: mlflow in /home/cemmi/anaconda3/envs/de-zoomcamp/lib/python3.8/site-packages (2.3.2)\n",
      "Requirement already satisfied: gitpython<4,>=2.1.0 in /home/cemmi/anaconda3/envs/de-zoomcamp/lib/python3.8/site-packages (from mlflow) (3.1.31)\n",
      "Requirement already satisfied: matplotlib<4 in /home/cemmi/anaconda3/envs/de-zoomcamp/lib/python3.8/site-packages (from mlflow) (3.7.1)\n",
      "Requirement already satisfied: pytz<2024 in /home/cemmi/anaconda3/envs/de-zoomcamp/lib/python3.8/site-packages (from mlflow) (2022.7.1)\n",
      "Requirement already satisfied: pandas<3 in /home/cemmi/anaconda3/envs/de-zoomcamp/lib/python3.8/site-packages (from mlflow) (1.5.2)\n",
      "Requirement already satisfied: scipy<2 in /home/cemmi/anaconda3/envs/de-zoomcamp/lib/python3.8/site-packages (from mlflow) (1.10.1)\n",
      "Requirement already satisfied: packaging<24 in /home/cemmi/anaconda3/envs/de-zoomcamp/lib/python3.8/site-packages (from mlflow) (23.0)\n",
      "Requirement already satisfied: importlib-metadata!=4.7.0,<7,>=3.7.0 in /home/cemmi/anaconda3/envs/de-zoomcamp/lib/python3.8/site-packages (from mlflow) (6.0.0)\n",
      "Requirement already satisfied: Flask<3 in /home/cemmi/anaconda3/envs/de-zoomcamp/lib/python3.8/site-packages (from mlflow) (2.3.2)\n",
      "Requirement already satisfied: numpy<2 in /home/cemmi/anaconda3/envs/de-zoomcamp/lib/python3.8/site-packages (from mlflow) (1.24.1)\n",
      "Requirement already satisfied: click<9,>=7.0 in /home/cemmi/anaconda3/envs/de-zoomcamp/lib/python3.8/site-packages (from mlflow) (8.1.3)\n",
      "Requirement already satisfied: pyarrow<12,>=4.0.0 in /home/cemmi/anaconda3/envs/de-zoomcamp/lib/python3.8/site-packages (from mlflow) (10.0.1)\n",
      "Requirement already satisfied: protobuf<5,>=3.12.0 in /home/cemmi/anaconda3/envs/de-zoomcamp/lib/python3.8/site-packages (from mlflow) (4.21.11)\n",
      "Requirement already satisfied: Jinja2<4,>=2.11 in /home/cemmi/anaconda3/envs/de-zoomcamp/lib/python3.8/site-packages (from mlflow) (3.1.2)\n",
      "Requirement already satisfied: entrypoints<1 in /home/cemmi/anaconda3/envs/de-zoomcamp/lib/python3.8/site-packages (from mlflow) (0.4)\n",
      "Requirement already satisfied: docker<7,>=4.0.0 in /home/cemmi/anaconda3/envs/de-zoomcamp/lib/python3.8/site-packages (from mlflow) (6.0.1)\n",
      "Requirement already satisfied: markdown<4,>=3.3 in /home/cemmi/anaconda3/envs/de-zoomcamp/lib/python3.8/site-packages (from mlflow) (3.4.1)\n",
      "Requirement already satisfied: databricks-cli<1,>=0.8.7 in /home/cemmi/anaconda3/envs/de-zoomcamp/lib/python3.8/site-packages (from mlflow) (0.17.7)\n",
      "Requirement already satisfied: sqlalchemy<3,>=1.4.0 in /home/cemmi/anaconda3/envs/de-zoomcamp/lib/python3.8/site-packages (from mlflow) (1.4.46)\n",
      "Requirement already satisfied: requests<3,>=2.17.3 in /home/cemmi/anaconda3/envs/de-zoomcamp/lib/python3.8/site-packages (from mlflow) (2.28.2)\n",
      "Requirement already satisfied: pyyaml<7,>=5.1 in /home/cemmi/anaconda3/envs/de-zoomcamp/lib/python3.8/site-packages (from mlflow) (6.0)\n",
      "Requirement already satisfied: querystring-parser<2 in /home/cemmi/anaconda3/envs/de-zoomcamp/lib/python3.8/site-packages (from mlflow) (1.2.4)\n",
      "Requirement already satisfied: scikit-learn<2 in /home/cemmi/anaconda3/envs/de-zoomcamp/lib/python3.8/site-packages (from mlflow) (1.2.2)\n",
      "Requirement already satisfied: gunicorn<21 in /home/cemmi/anaconda3/envs/de-zoomcamp/lib/python3.8/site-packages (from mlflow) (20.1.0)\n",
      "Requirement already satisfied: sqlparse<1,>=0.4.0 in /home/cemmi/anaconda3/envs/de-zoomcamp/lib/python3.8/site-packages (from mlflow) (0.4.4)\n",
      "Requirement already satisfied: alembic!=1.10.0,<2 in /home/cemmi/anaconda3/envs/de-zoomcamp/lib/python3.8/site-packages (from mlflow) (1.9.2)\n",
      "Requirement already satisfied: cloudpickle<3 in /home/cemmi/anaconda3/envs/de-zoomcamp/lib/python3.8/site-packages (from mlflow) (2.2.1)\n",
      "Requirement already satisfied: importlib-resources in /home/cemmi/anaconda3/envs/de-zoomcamp/lib/python3.8/site-packages (from alembic!=1.10.0,<2->mlflow) (5.10.2)\n",
      "Requirement already satisfied: Mako in /home/cemmi/anaconda3/envs/de-zoomcamp/lib/python3.8/site-packages (from alembic!=1.10.0,<2->mlflow) (1.2.4)\n",
      "Requirement already satisfied: oauthlib>=3.1.0 in /home/cemmi/anaconda3/envs/de-zoomcamp/lib/python3.8/site-packages (from databricks-cli<1,>=0.8.7->mlflow) (3.2.2)\n",
      "Requirement already satisfied: urllib3<2.0.0,>=1.26.7 in /home/cemmi/anaconda3/envs/de-zoomcamp/lib/python3.8/site-packages (from databricks-cli<1,>=0.8.7->mlflow) (1.26.14)\n",
      "Requirement already satisfied: tabulate>=0.7.7 in /home/cemmi/anaconda3/envs/de-zoomcamp/lib/python3.8/site-packages (from databricks-cli<1,>=0.8.7->mlflow) (0.9.0)\n",
      "Requirement already satisfied: six>=1.10.0 in /home/cemmi/anaconda3/envs/de-zoomcamp/lib/python3.8/site-packages (from databricks-cli<1,>=0.8.7->mlflow) (1.16.0)\n",
      "Requirement already satisfied: pyjwt>=1.7.0 in /home/cemmi/anaconda3/envs/de-zoomcamp/lib/python3.8/site-packages (from databricks-cli<1,>=0.8.7->mlflow) (2.7.0)\n",
      "Requirement already satisfied: websocket-client>=0.32.0 in /home/cemmi/anaconda3/envs/de-zoomcamp/lib/python3.8/site-packages (from docker<7,>=4.0.0->mlflow) (1.5.0)\n",
      "Requirement already satisfied: Werkzeug>=2.3.3 in /home/cemmi/anaconda3/envs/de-zoomcamp/lib/python3.8/site-packages (from Flask<3->mlflow) (2.3.4)\n",
      "Requirement already satisfied: blinker>=1.6.2 in /home/cemmi/anaconda3/envs/de-zoomcamp/lib/python3.8/site-packages (from Flask<3->mlflow) (1.6.2)\n",
      "Requirement already satisfied: itsdangerous>=2.1.2 in /home/cemmi/anaconda3/envs/de-zoomcamp/lib/python3.8/site-packages (from Flask<3->mlflow) (2.1.2)\n",
      "Requirement already satisfied: gitdb<5,>=4.0.1 in /home/cemmi/anaconda3/envs/de-zoomcamp/lib/python3.8/site-packages (from gitpython<4,>=2.1.0->mlflow) (4.0.10)\n",
      "Requirement already satisfied: setuptools>=3.0 in /home/cemmi/anaconda3/envs/de-zoomcamp/lib/python3.8/site-packages (from gunicorn<21->mlflow) (65.6.3)\n",
      "Requirement already satisfied: zipp>=0.5 in /home/cemmi/anaconda3/envs/de-zoomcamp/lib/python3.8/site-packages (from importlib-metadata!=4.7.0,<7,>=3.7.0->mlflow) (3.12.0)\n",
      "Requirement already satisfied: MarkupSafe>=2.0 in /home/cemmi/anaconda3/envs/de-zoomcamp/lib/python3.8/site-packages (from Jinja2<4,>=2.11->mlflow) (2.1.2)\n",
      "Requirement already satisfied: cycler>=0.10 in /home/cemmi/anaconda3/envs/de-zoomcamp/lib/python3.8/site-packages (from matplotlib<4->mlflow) (0.11.0)\n",
      "Requirement already satisfied: pillow>=6.2.0 in /home/cemmi/anaconda3/envs/de-zoomcamp/lib/python3.8/site-packages (from matplotlib<4->mlflow) (9.5.0)\n",
      "Requirement already satisfied: pyparsing>=2.3.1 in /home/cemmi/anaconda3/envs/de-zoomcamp/lib/python3.8/site-packages (from matplotlib<4->mlflow) (3.0.9)\n",
      "Requirement already satisfied: python-dateutil>=2.7 in /home/cemmi/anaconda3/envs/de-zoomcamp/lib/python3.8/site-packages (from matplotlib<4->mlflow) (2.8.2)\n",
      "Requirement already satisfied: fonttools>=4.22.0 in /home/cemmi/anaconda3/envs/de-zoomcamp/lib/python3.8/site-packages (from matplotlib<4->mlflow) (4.39.4)\n",
      "Requirement already satisfied: contourpy>=1.0.1 in /home/cemmi/anaconda3/envs/de-zoomcamp/lib/python3.8/site-packages (from matplotlib<4->mlflow) (1.0.7)\n",
      "Requirement already satisfied: kiwisolver>=1.0.1 in /home/cemmi/anaconda3/envs/de-zoomcamp/lib/python3.8/site-packages (from matplotlib<4->mlflow) (1.4.4)\n",
      "Requirement already satisfied: idna<4,>=2.5 in /home/cemmi/anaconda3/envs/de-zoomcamp/lib/python3.8/site-packages (from requests<3,>=2.17.3->mlflow) (3.4)\n",
      "Requirement already satisfied: certifi>=2017.4.17 in /home/cemmi/anaconda3/envs/de-zoomcamp/lib/python3.8/site-packages (from requests<3,>=2.17.3->mlflow) (2022.12.7)\n",
      "Requirement already satisfied: charset-normalizer<4,>=2 in /home/cemmi/anaconda3/envs/de-zoomcamp/lib/python3.8/site-packages (from requests<3,>=2.17.3->mlflow) (3.0.1)\n",
      "Requirement already satisfied: joblib>=1.1.1 in /home/cemmi/anaconda3/envs/de-zoomcamp/lib/python3.8/site-packages (from scikit-learn<2->mlflow) (1.2.0)\n",
      "Requirement already satisfied: threadpoolctl>=2.0.0 in /home/cemmi/anaconda3/envs/de-zoomcamp/lib/python3.8/site-packages (from scikit-learn<2->mlflow) (3.1.0)\n",
      "Requirement already satisfied: greenlet!=0.4.17 in /home/cemmi/anaconda3/envs/de-zoomcamp/lib/python3.8/site-packages (from sqlalchemy<3,>=1.4.0->mlflow) (2.0.2)\n"
     ]
    },
    {
     "name": "stdout",
     "output_type": "stream",
     "text": [
      "Requirement already satisfied: smmap<6,>=3.0.1 in /home/cemmi/anaconda3/envs/de-zoomcamp/lib/python3.8/site-packages (from gitdb<5,>=4.0.1->gitpython<4,>=2.1.0->mlflow) (5.0.0)\r\n"
     ]
    }
   ],
   "source": [
    "!pip install mlflow"
   ]
  },
  {
   "cell_type": "code",
   "execution_count": 2,
   "id": "b2120ace",
   "metadata": {},
   "outputs": [
    {
     "name": "stdout",
     "output_type": "stream",
     "text": [
      "mlflow, version 2.3.2\r\n"
     ]
    }
   ],
   "source": [
    "!mlflow --version"
   ]
  },
  {
   "cell_type": "markdown",
   "id": "30dd433b",
   "metadata": {},
   "source": [
    "# Q2"
   ]
  },
  {
   "cell_type": "code",
   "execution_count": 3,
   "id": "fd446944",
   "metadata": {},
   "outputs": [],
   "source": [
    "!python preprocess_data.py --raw_data_path data --dest_path data/cleaned"
   ]
  },
  {
   "cell_type": "code",
   "execution_count": 13,
   "id": "0706c688",
   "metadata": {},
   "outputs": [
    {
     "name": "stdout",
     "output_type": "stream",
     "text": [
      "152K data/cleaned/dv.pkl\r\n"
     ]
    }
   ],
   "source": [
    "!ls -sh data/cleaned/dv.pkl"
   ]
  },
  {
   "cell_type": "markdown",
   "id": "efc04a2d",
   "metadata": {},
   "source": [
    "# Q3"
   ]
  },
  {
   "cell_type": "code",
   "execution_count": 4,
   "id": "88bdca36",
   "metadata": {},
   "outputs": [],
   "source": [
    "import os\n",
    "import pickle\n",
    "\n",
    "from sklearn.ensemble import RandomForestRegressor\n",
    "from sklearn.metrics import mean_squared_error\n",
    "import mlflow\n",
    "\n",
    "mlflow.set_tracking_uri(\"sqlite:///mlflow.db\")\n",
    "mlflow.set_tracking_uri(\"http://127.0.0.1:5000\")"
   ]
  },
  {
   "cell_type": "code",
   "execution_count": 5,
   "id": "5d3d8641",
   "metadata": {},
   "outputs": [
    {
     "name": "stderr",
     "output_type": "stream",
     "text": [
      "2023/05/28 16:01:01 INFO mlflow.tracking.fluent: Experiment with name 'nyc-taxi-experiment' does not exist. Creating a new experiment.\n"
     ]
    }
   ],
   "source": [
    "def load_pickle(filename: str):\n",
    "    with open(filename, \"rb\") as f_in:\n",
    "        return pickle.load(f_in)\n",
    "\n",
    "TEST_EXPERIMENT = \"nyc-taxi-experiment\"\n",
    "mlflow.set_experiment(TEST_EXPERIMENT)\n",
    "\n",
    "def run_train(data_path: str = 'data/cleaned'):\n",
    "    with mlflow.start_run():\n",
    "        X_train, y_train = load_pickle(os.path.join(data_path, \"train.pkl\"))\n",
    "        X_val, y_val = load_pickle(os.path.join(data_path, \"val.pkl\"))\n",
    "        \n",
    "        max_depth = 10\n",
    "        rf = RandomForestRegressor(max_depth=max_depth, random_state=0)\n",
    "        rf.fit(X_train, y_train)\n",
    "        y_pred = rf.predict(X_val)\n",
    "\n",
    "        rmse = mean_squared_error(y_val, y_pred, squared=False)\n",
    "        mlflow.log_metric(\"rmse\", rmse)\n",
    "        mlflow.log_param('max_depth', max_depth)\n",
    "\n",
    "run_train()"
   ]
  },
  {
   "cell_type": "markdown",
   "id": "f9fd48a2",
   "metadata": {},
   "source": [
    "# Q4"
   ]
  },
  {
   "cell_type": "code",
   "execution_count": 6,
   "id": "9b915fcf",
   "metadata": {},
   "outputs": [
    {
     "name": "stderr",
     "output_type": "stream",
     "text": [
      "2023/05/28 16:01:06 INFO mlflow.tracking.fluent: Experiment with name 'random-forest-hyperopt' does not exist. Creating a new experiment.\n",
      "\u001b[32m[I 2023-05-28 16:01:06,986]\u001b[0m A new study created in memory with name: no-name-38230248-7845-41cd-bfa2-aec735c16f54\u001b[0m\n",
      "\u001b[32m[I 2023-05-28 16:01:07,504]\u001b[0m Trial 0 finished with value: 2.451379690825458 and parameters: {'n_estimators': 25, 'max_depth': 20, 'min_samples_split': 8, 'min_samples_leaf': 3}. Best is trial 0 with value: 2.451379690825458.\u001b[0m\n",
      "\u001b[32m[I 2023-05-28 16:01:07,772]\u001b[0m Trial 1 finished with value: 2.4667366020368333 and parameters: {'n_estimators': 16, 'max_depth': 4, 'min_samples_split': 2, 'min_samples_leaf': 4}. Best is trial 0 with value: 2.451379690825458.\u001b[0m\n",
      "\u001b[32m[I 2023-05-28 16:01:08,223]\u001b[0m Trial 2 finished with value: 2.449827329704216 and parameters: {'n_estimators': 34, 'max_depth': 15, 'min_samples_split': 2, 'min_samples_leaf': 4}. Best is trial 2 with value: 2.449827329704216.\u001b[0m\n",
      "\u001b[32m[I 2023-05-28 16:01:08,402]\u001b[0m Trial 3 finished with value: 2.460983516558473 and parameters: {'n_estimators': 44, 'max_depth': 5, 'min_samples_split': 3, 'min_samples_leaf': 1}. Best is trial 2 with value: 2.449827329704216.\u001b[0m\n",
      "\u001b[32m[I 2023-05-28 16:01:08,611]\u001b[0m Trial 4 finished with value: 2.453877262701052 and parameters: {'n_estimators': 22, 'max_depth': 11, 'min_samples_split': 5, 'min_samples_leaf': 2}. Best is trial 2 with value: 2.449827329704216.\u001b[0m\n",
      "\u001b[32m[I 2023-05-28 16:01:08,727]\u001b[0m Trial 5 finished with value: 2.4720122094960733 and parameters: {'n_estimators': 35, 'max_depth': 3, 'min_samples_split': 4, 'min_samples_leaf': 2}. Best is trial 2 with value: 2.449827329704216.\u001b[0m\n",
      "\u001b[32m[I 2023-05-28 16:01:09,100]\u001b[0m Trial 6 finished with value: 2.4516421799356767 and parameters: {'n_estimators': 28, 'max_depth': 16, 'min_samples_split': 3, 'min_samples_leaf': 3}. Best is trial 2 with value: 2.449827329704216.\u001b[0m\n",
      "\u001b[32m[I 2023-05-28 16:01:09,195]\u001b[0m Trial 7 finished with value: 2.5374040268274087 and parameters: {'n_estimators': 34, 'max_depth': 1, 'min_samples_split': 7, 'min_samples_leaf': 1}. Best is trial 2 with value: 2.449827329704216.\u001b[0m\n",
      "\u001b[32m[I 2023-05-28 16:01:09,426]\u001b[0m Trial 8 finished with value: 2.455971238567075 and parameters: {'n_estimators': 12, 'max_depth': 19, 'min_samples_split': 10, 'min_samples_leaf': 4}. Best is trial 2 with value: 2.449827329704216.\u001b[0m\n",
      "\u001b[32m[I 2023-05-28 16:01:09,517]\u001b[0m Trial 9 finished with value: 2.486106021576535 and parameters: {'n_estimators': 22, 'max_depth': 2, 'min_samples_split': 8, 'min_samples_leaf': 2}. Best is trial 2 with value: 2.449827329704216.\u001b[0m\n"
     ]
    }
   ],
   "source": [
    "import optuna\n",
    "\n",
    "from optuna.samplers import TPESampler\n",
    "\n",
    "HPO_EXPERIMENT_NAME = \"random-forest-hyperopt\"\n",
    "mlflow.set_experiment(HPO_EXPERIMENT_NAME)\n",
    "\n",
    "def run_optimization(data_path: str = 'data/cleaned', num_trials: int = 10):\n",
    "\n",
    "    X_train, y_train = load_pickle(os.path.join(data_path, \"train.pkl\"))\n",
    "    X_val, y_val = load_pickle(os.path.join(data_path, \"val.pkl\"))\n",
    "\n",
    "    def objective(trial):\n",
    "        with mlflow.start_run():\n",
    "            params = {\n",
    "                'n_estimators': trial.suggest_int('n_estimators', 10, 50, 1),\n",
    "                'max_depth': trial.suggest_int('max_depth', 1, 20, 1),\n",
    "                'min_samples_split': trial.suggest_int('min_samples_split', 2, 10, 1),\n",
    "                'min_samples_leaf': trial.suggest_int('min_samples_leaf', 1, 4, 1),\n",
    "                'random_state': 42,\n",
    "                'n_jobs': -1\n",
    "            }\n",
    "\n",
    "            rf = RandomForestRegressor(**params)\n",
    "            rf.fit(X_train, y_train)\n",
    "            y_pred = rf.predict(X_val)\n",
    "            rmse = mean_squared_error(y_val, y_pred, squared=False)\n",
    "            mlflow.log_metric(\"rmse\", rmse)\n",
    "            mlflow.log_params(params)\n",
    "        return rmse\n",
    "\n",
    "    sampler = TPESampler(seed=42)\n",
    "    study = optuna.create_study(direction=\"minimize\", sampler=sampler)\n",
    "    study.optimize(objective, n_trials=num_trials)\n",
    "\n",
    "run_optimization()\n"
   ]
  },
  {
   "cell_type": "markdown",
   "id": "35e34fee",
   "metadata": {},
   "source": [
    "# Q5"
   ]
  },
  {
   "cell_type": "code",
   "execution_count": 7,
   "id": "cba37b5e",
   "metadata": {},
   "outputs": [
    {
     "name": "stderr",
     "output_type": "stream",
     "text": [
      "2023/05/28 16:01:09 INFO mlflow.tracking.fluent: Experiment with name 'random-forest-best-models' does not exist. Creating a new experiment.\n",
      "2023/05/28 16:01:11 WARNING mlflow.utils.autologging_utils: MLflow autologging encountered a warning: \"/home/cemmi/anaconda3/envs/de-zoomcamp/lib/python3.8/site-packages/_distutils_hack/__init__.py:33: UserWarning: Setuptools is replacing distutils.\"\n",
      "Successfully registered model 'random-forest-best-models'.\n",
      "2023/05/28 16:01:16 INFO mlflow.tracking._model_registry.client: Waiting up to 300 seconds for model version to finish creation. Model name: random-forest-best-models, version 1\n"
     ]
    },
    {
     "name": "stdout",
     "output_type": "stream",
     "text": [
      "model_uri runs:/f1ea05ec44ca48aaa0e614a609c66980/model\n"
     ]
    },
    {
     "name": "stderr",
     "output_type": "stream",
     "text": [
      "Created version '1' of model 'random-forest-best-models'.\n"
     ]
    },
    {
     "data": {
      "text/plain": [
       "<ModelVersion: aliases=[], creation_timestamp=1685282476807, current_stage='None', description='', last_updated_timestamp=1685282476807, name='random-forest-best-models', run_id='f1ea05ec44ca48aaa0e614a609c66980', run_link='', source='mlflow-artifacts:/3/f1ea05ec44ca48aaa0e614a609c66980/artifacts/model', status='READY', status_message='', tags={}, user_id='', version='1'>"
      ]
     },
     "execution_count": 7,
     "metadata": {},
     "output_type": "execute_result"
    }
   ],
   "source": [
    "from mlflow.entities import ViewType\n",
    "from mlflow.tracking import MlflowClient\n",
    "\n",
    "EXPERIMENT_NAME = \"random-forest-best-models\"\n",
    "RF_PARAMS = ['max_depth', 'n_estimators', 'min_samples_split', 'min_samples_leaf', 'random_state', 'n_jobs']\n",
    "\n",
    "mlflow.set_experiment(EXPERIMENT_NAME)\n",
    "mlflow.sklearn.autolog()\n",
    "\n",
    "def train_and_log_model(data_path, params):\n",
    "    X_train, y_train = load_pickle(os.path.join(data_path, \"train.pkl\"))\n",
    "    X_val, y_val = load_pickle(os.path.join(data_path, \"val.pkl\"))\n",
    "    X_test, y_test = load_pickle(os.path.join(data_path, \"test.pkl\"))\n",
    "\n",
    "    with mlflow.start_run():\n",
    "        for param in RF_PARAMS:\n",
    "            params[param] = int(params[param])\n",
    "\n",
    "        rf = RandomForestRegressor(**params)\n",
    "        rf.fit(X_train, y_train)\n",
    "\n",
    "        # Evaluate model on the validation and test sets\n",
    "        val_rmse = mean_squared_error(y_val, rf.predict(X_val), squared=False)\n",
    "        mlflow.log_metric(\"val_rmse\", val_rmse)\n",
    "        test_rmse = mean_squared_error(y_test, rf.predict(X_test), squared=False)\n",
    "        mlflow.log_metric(\"test_rmse\", test_rmse)\n",
    "\n",
    "\n",
    "\n",
    "data_path: str = 'data/cleaned'\n",
    "top_n: int = 5\n",
    "\n",
    "client = MlflowClient()\n",
    "\n",
    "# Retrieve the top_n model runs and log the models\n",
    "experiment = client.get_experiment_by_name(HPO_EXPERIMENT_NAME)\n",
    "runs = client.search_runs(\n",
    "    experiment_ids=experiment.experiment_id,\n",
    "    run_view_type=ViewType.ACTIVE_ONLY,\n",
    "    max_results=top_n,\n",
    "    order_by=[\"metrics.rmse ASC\"]\n",
    ")\n",
    "for run in runs:\n",
    "    train_and_log_model(data_path=data_path, params=run.data.params)\n",
    "\n",
    "# Select the model with the lowest test RMSE\n",
    "experiment = client.get_experiment_by_name(EXPERIMENT_NAME)\n",
    "best_run = client.search_runs(\n",
    "    experiment_ids=experiment.experiment_id,\n",
    "    run_view_type=ViewType.ACTIVE_ONLY,\n",
    "    max_results=top_n,\n",
    "    order_by=[\"metrics.test_rmse ASC\"]\n",
    ")[0]\n",
    "\n",
    "# Register the best model\n",
    "run_id = best_run.info.run_id\n",
    "model_uri = f'runs:/{run_id}/model'\n",
    "print(f'model_uri {model_uri}')\n",
    "mlflow.register_model(model_uri=model_uri, name=EXPERIMENT_NAME)\n"
   ]
  },
  {
   "cell_type": "code",
   "execution_count": null,
   "id": "46fd0d47",
   "metadata": {},
   "outputs": [],
   "source": []
  }
 ],
 "metadata": {
  "kernelspec": {
   "display_name": "Python 3 (ipykernel)",
   "language": "python",
   "name": "python3"
  },
  "language_info": {
   "codemirror_mode": {
    "name": "ipython",
    "version": 3
   },
   "file_extension": ".py",
   "mimetype": "text/x-python",
   "name": "python",
   "nbconvert_exporter": "python",
   "pygments_lexer": "ipython3",
   "version": "3.8.16"
  }
 },
 "nbformat": 4,
 "nbformat_minor": 5
}
